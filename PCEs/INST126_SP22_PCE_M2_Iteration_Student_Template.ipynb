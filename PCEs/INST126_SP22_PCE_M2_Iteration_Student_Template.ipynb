{
 "cells": [
  {
   "cell_type": "markdown",
   "metadata": {
    "id": "y3G0wdCFC5up"
   },
   "source": [
    "# Programming Component Exercise Module 2: Iteration"
   ]
  },
  {
   "cell_type": "markdown",
   "metadata": {
    "id": "ghB6x7zE5v12"
   },
   "source": [
    "# Q1: Keep adding a character to the input string until the length is 5\n",
    "\n",
    "Define a function addElement() that takes two arguments, a string and a character.\n",
    "Ensure that the length of the input string is less than 5 i.e len(s) < 5.\n",
    "\n",
    "The function addElement() should add the character passsed as an argument to the string until its length becomes 5, and then return the resulting modified string.\n",
    "\n",
    "Inputs:\n",
    "*   `input_string (str)`  - a string of length < 5\n",
    "*   `character (str)` - single character that needs to be concatenated with the input string\n",
    "\n",
    "\n",
    "\n",
    "Returns:\n",
    "*   `output_string (list)` - new string that has the character added to the input string as many times as it takes to make the length of the string equal to 5 characters long\n",
    "\n",
    "\n",
    "Eg: Given `string=\"aa\" and character = \"b\"` as input arguments, the function should return `\"aabbb\"` Also, if you pass in a string that is already 5 characters long (e.g., `abcde`), you should get the same string out of the function.\n",
    "\n"
   ]
  },
  {
   "cell_type": "code",
   "execution_count": 6,
   "metadata": {},
   "outputs": [],
   "source": [
    "# formulate and write code for your problem components here"
   ]
  },
  {
   "cell_type": "code",
   "execution_count": 7,
   "metadata": {
    "id": "kLlcLOCG5sUg"
   },
   "outputs": [],
   "source": [
    "def addElement(input_string, character): # fill out / check the parameters\n",
    "    \n",
    "    while len(input_string) < 5:\n",
    "        input_string = input_string + character\n",
    "    \n",
    "    return input_string"
   ]
  },
  {
   "cell_type": "code",
   "execution_count": 8,
   "metadata": {
    "id": "WVMgTm705sZg"
   },
   "outputs": [
    {
     "data": {
      "text/plain": [
       "'vvvvvv'"
      ]
     },
     "execution_count": 8,
     "metadata": {},
     "output_type": "execute_result"
    }
   ],
   "source": [
    "# test your function here\n",
    "s = \"vvvvvv\"\n",
    "new = addElement(input_string=s,character=\"a\")\n",
    "new"
   ]
  },
  {
   "cell_type": "code",
   "execution_count": 10,
   "metadata": {
    "id": "lu_MUUYF5sbt"
   },
   "outputs": [
    {
     "name": "stdout",
     "output_type": "stream",
     "text": [
      "Correct, great job!\n"
     ]
    }
   ],
   "source": [
    "# Run this cell to get feedback on your answer\n",
    "def test_addElement(answer):\n",
    "    \n",
    "    student_score = 1\n",
    " \n",
    "    cases = [(\"aa\",\"b\",\"aabbb\"),\n",
    "        (\"c\",\"a\",\"caaaa\"),\n",
    "        (\"vvv\",\"a\",\"vvvaa\")]\n",
    "    \n",
    "    for case in cases:\n",
    "        ref = case[2]\n",
    "        if answer(case[0],case[1]) != ref:\n",
    "            student_score = 0\n",
    "\n",
    "    if student_score == 1:\n",
    "        print(\"Correct, great job!\")\n",
    "    else:\n",
    "        print(\"Something's not quite right: try checking all the test cases here and make sure your function works for all of them\")\n",
    "\n",
    "test_addElement(addElement)"
   ]
  },
  {
   "cell_type": "markdown",
   "metadata": {
    "id": "cETDfKKx7OQK"
   },
   "source": [
    "# Q2: Transform data in a list\n",
    "\n",
    "Write a function called `transform_numbers()` that takes a list of `int` numbers as input, and returns a new list of numbers where each number from the original list is multiplied by a constant `int`.\n",
    "\n",
    "Inputs:\n",
    "- `nums` (`list`) - list of `int`s\n",
    "- `multiplier` (`int`) - number to multiply each number from the original list\n",
    "\n",
    "Returns:\n",
    "- `transformed_nums` (`list`) - new list of `int`s\n",
    "\n",
    "For example, given `[3, 2, 6]` and `2` as input arguments, `transform_numbers()` should return the list `[6, 4, 12]` (where each number in the original list is multiplied by 2.\n",
    "\n",
    "To do this, you need to:\n",
    "1. Create a new empty list `transformed_nums` to hold the transformed numbers\n",
    "2. Iterate through the original list: at each step, multiply the number by the `multiplier` constant, and then add it to the `transformed_nums` list.\n",
    "3. Return the transformed numbers list"
   ]
  },
  {
   "cell_type": "code",
   "execution_count": null,
   "metadata": {},
   "outputs": [],
   "source": [
    "# formulate and write code for your problem components here"
   ]
  },
  {
   "cell_type": "code",
   "execution_count": 13,
   "metadata": {
    "id": "q9__n7ka5sd_"
   },
   "outputs": [],
   "source": [
    "def transform_numbers(nums, multiplier): # fill out / check the parameter\n",
    "    transformed_nums = map(lambda x: x*multiplier, nums)\n",
    "    return list(transformed_nums)"
   ]
  },
  {
   "cell_type": "code",
   "execution_count": 14,
   "metadata": {
    "id": "Skq2b5ve5sf-"
   },
   "outputs": [
    {
     "name": "stdout",
     "output_type": "stream",
     "text": [
      "[24, 108, 150, 176, 108]\n"
     ]
    }
   ],
   "source": [
    "# test your function here\n",
    "original_list = [12,54,75,88,54]\n",
    "mult = 2\n",
    "newList = transform_numbers(nums=original_list,multiplier=mult)\n",
    "print(newList)"
   ]
  },
  {
   "cell_type": "code",
   "execution_count": 15,
   "metadata": {
    "id": "pXvOPAlP5siR"
   },
   "outputs": [
    {
     "name": "stdout",
     "output_type": "stream",
     "text": [
      "Correct, great job!\n"
     ]
    }
   ],
   "source": [
    "# Run this cell to get feedback on your answer\n",
    "def test_transform_numbers(answer):\n",
    "    max_score = 1\n",
    "    student_score = 1\n",
    " \n",
    "    cases = [([1,2,3,4,5],5,[5,10,15,20,25]),\n",
    "        ([1,2,3,4],4,[4,8,12,16]),\n",
    "        ([2,4,6],3,[6,12,18])]\n",
    "    \n",
    "    for case in cases:\n",
    "        ref = case[2]\n",
    "        if answer(case[0],case[1]) != ref:\n",
    "            student_score = 0\n",
    "\n",
    "    if student_score == 1:\n",
    "        print(\"Correct, great job!\")\n",
    "    else:\n",
    "        print(\"Something's not quite right: try checking all the test cases here and make sure your function works for all of them\")\n",
    "\n",
    "test_transform_numbers(transform_numbers)"
   ]
  },
  {
   "cell_type": "markdown",
   "metadata": {
    "id": "o1PbSt64fXSi"
   },
   "source": [
    "# Q3: Filter a list\n",
    "\n",
    "Define a function called findEven() that takes a list of numbers and returns a list of all even numbers in that original list. \n",
    "\n",
    "Inputs:\n",
    "*   `nums (list)` - list of `int`s\n",
    "\n",
    "Returns:\n",
    "*   `even_nums (list)` - list of even numbers that are in `nums`\n",
    "\n",
    "\n",
    "Eg: Given `[2,4,65,67,89,87,88,90,23,34]` as input argument, the function should return `[2, 4, 88, 90, 34]`\n",
    "\n",
    "To do this, your function needs to:\n",
    "1. Define a new empty list `even_nums` to hold the even numbers\n",
    "2. Iterate through input list: at each step, check if the number is even, and add it to the `even_nums` list if so\n",
    "3. Return the `even_nums` list\n",
    "\n",
    "This is the filtering pattern we discuss in class.\n"
   ]
  },
  {
   "cell_type": "code",
   "execution_count": null,
   "metadata": {},
   "outputs": [],
   "source": [
    "# formulate and write code for your problem components here"
   ]
  },
  {
   "cell_type": "code",
   "execution_count": 19,
   "metadata": {
    "id": "bFkdQ4s9prBI"
   },
   "outputs": [],
   "source": [
    "def findEven(nums): # fill out / check the parameters\n",
    "    even_nums = filter(lambda x: x % 2 == 0, nums)\n",
    "    return list(even_nums)"
   ]
  },
  {
   "cell_type": "code",
   "execution_count": 20,
   "metadata": {
    "id": "nGIBIkwYqAK4"
   },
   "outputs": [
    {
     "data": {
      "text/plain": [
       "[2, 4, 88, 90, 34]"
      ]
     },
     "execution_count": 20,
     "metadata": {},
     "output_type": "execute_result"
    }
   ],
   "source": [
    "# test your function here\n",
    "listNum = [2,4,65,67,89,87,88,90,23,34]\n",
    "newList = findEven(nums=listNum)\n",
    "newList"
   ]
  },
  {
   "cell_type": "code",
   "execution_count": 21,
   "metadata": {
    "id": "xJ4-Oob7rAKK"
   },
   "outputs": [
    {
     "name": "stdout",
     "output_type": "stream",
     "text": [
      "Correct, great job!\n"
     ]
    }
   ],
   "source": [
    "# Run this cell to get feedback on your answer\n",
    "def test_findEven(answer):\n",
    "    max_score = 1\n",
    "    student_score = 1\n",
    " \n",
    "    cases = [\n",
    "        ([1,3,4,6,8,10],[4,6,8,10]),\n",
    "        ([1,3,5,7,9],[]),\n",
    "        ([2,4,66,88,44],[2,4,66,88,44])\n",
    "        ]\n",
    "    \n",
    "    for case in cases:\n",
    "        ref = case[1]\n",
    "        if answer(case[0]) != ref:\n",
    "            student_score = 0\n",
    "\n",
    "    if student_score == 1:\n",
    "        print(\"Correct, great job!\")\n",
    "    else:\n",
    "        print(\"Something's not quite right: try checking all the test cases here and make sure your function works for all of them\")\n",
    "\n",
    "test_findEven(findEven)"
   ]
  },
  {
   "cell_type": "markdown",
   "metadata": {
    "id": "t76GLzj4zXL3"
   },
   "source": [
    "# Q4: Counting\n",
    "\n",
    "Define a function called countOdd() that takes a list of numbers and returns the count of odd numbers in that list. \n",
    "\n",
    "Inputs:\n",
    "*   `nums (list)` - list of `int`s\n",
    "\n",
    "Returns:\n",
    "*   `num_odd (int)` - count of odd numbers in the list\n",
    "\n",
    "\n",
    "Eg: Given `[2,4,65,67,89,87,88,90,22,34]` as input argument, the function should return `3`\n",
    "\n",
    "To do this, your function needs to:\n",
    "1. Define a new variable `num_odd` to hold the count of odd numbers, intialized to 0\n",
    "2. Iterate through input list: at each step, check if the number is odd, and increment `num_odd` by 1 if so\n",
    "3. Return the `num_odd` variable\n"
   ]
  },
  {
   "cell_type": "code",
   "execution_count": null,
   "metadata": {},
   "outputs": [],
   "source": [
    "# formulate and write code for your problem components here"
   ]
  },
  {
   "cell_type": "code",
   "execution_count": 24,
   "metadata": {
    "id": "LLDdv7svyzeK"
   },
   "outputs": [],
   "source": [
    "def countOdd(nums): # fill out / check the parameters\n",
    "    num_odd = len(list(filter(lambda x: x % 2 != 0, nums)))\n",
    "    return num_odd"
   ]
  },
  {
   "cell_type": "code",
   "execution_count": 25,
   "metadata": {
    "id": "0E_qvIyEzxOZ"
   },
   "outputs": [
    {
     "data": {
      "text/plain": [
       "5"
      ]
     },
     "execution_count": 25,
     "metadata": {},
     "output_type": "execute_result"
    }
   ],
   "source": [
    "# test your function here\n",
    "listNum = [2,4,65,67,89,87,88,90,23,34]\n",
    "count = countOdd(nums=listNum)\n",
    "count"
   ]
  },
  {
   "cell_type": "code",
   "execution_count": 26,
   "metadata": {
    "id": "VMwY9Eh8zxQ_"
   },
   "outputs": [
    {
     "name": "stdout",
     "output_type": "stream",
     "text": [
      "Correct, great job!\n"
     ]
    }
   ],
   "source": [
    "# Run this cell to get feedback on your answer\n",
    "def test_countOdd(answer):\n",
    "    max_score = 1\n",
    "    student_score = 1\n",
    "\n",
    "    cases = [\n",
    "        ([1,3,4,6,8,10],2),\n",
    "        ([1,3,5,7,9],5),\n",
    "        ([2,4,66,88,44],0)\n",
    "        ]\n",
    "\n",
    "    for case in cases:\n",
    "        ref = case[1]\n",
    "        if answer(case[0]) != ref:\n",
    "            student_score = 0\n",
    "\n",
    "    if student_score == 1:\n",
    "        print(\"Correct, great job!\")\n",
    "    else:\n",
    "        print(\"Something's not quite right: try checking all the test cases here and make sure your function works for all of them\")\n",
    "\n",
    "test_countOdd(countOdd)"
   ]
  },
  {
   "cell_type": "code",
   "execution_count": null,
   "metadata": {},
   "outputs": [],
   "source": []
  }
 ],
 "metadata": {
  "colab": {
   "collapsed_sections": [],
   "name": "INST126_SP22_PCE_M2_Iteration_Student_Template.ipynb",
   "provenance": []
  },
  "kernelspec": {
   "display_name": "Python 3 (ipykernel)",
   "language": "python",
   "name": "python3"
  },
  "language_info": {
   "codemirror_mode": {
    "name": "ipython",
    "version": 3
   },
   "file_extension": ".py",
   "mimetype": "text/x-python",
   "name": "python",
   "nbconvert_exporter": "python",
   "pygments_lexer": "ipython3",
   "version": "3.9.7"
  },
  "toc": {
   "base_numbering": 1,
   "nav_menu": {},
   "number_sections": false,
   "sideBar": true,
   "skip_h1_title": false,
   "title_cell": "Table of Contents",
   "title_sidebar": "Contents",
   "toc_cell": false,
   "toc_position": {},
   "toc_section_display": true,
   "toc_window_display": false
  }
 },
 "nbformat": 4,
 "nbformat_minor": 1
}
