{
 "cells": [
  {
   "cell_type": "markdown",
   "metadata": {
    "id": "y3G0wdCFC5up"
   },
   "source": [
    "# Programming Component Exercise Module 2: Strings"
   ]
  },
  {
   "cell_type": "markdown",
   "metadata": {
    "id": "4-Pwu6LeEUd5"
   },
   "source": [
    "\n",
    "## Q1: Grab a character at a given position in a five-letter string\n",
    "Write a function called `index_string` that takes as input:\n",
    "1. `s`: a five-letter string\n",
    "2. `psn`: an `int` between 0 and 4 \n",
    "\n",
    "and returns:\n",
    "`result`: the character that is at position `psn` in `s`.\n",
    "\n",
    "For example, `index_string(\"hello\", 3)` should return `\"l\"`."
   ]
  },
  {
   "cell_type": "code",
   "execution_count": null,
   "metadata": {},
   "outputs": [],
   "source": [
    "# formulate and write code for your problem components here"
   ]
  },
  {
   "cell_type": "code",
   "execution_count": 10,
   "metadata": {
    "id": "FfhDpCj11O07"
   },
   "outputs": [],
   "source": [
    "def index_string(s, psn): # fill out / check the parameters\n",
    "    if psn > (len(s) - 1):\n",
    "        raise Exception(\"Come on bruh\")\n",
    "    result = s[psn]\n",
    "    return result"
   ]
  },
  {
   "cell_type": "code",
   "execution_count": 15,
   "metadata": {
    "id": "JXbpsvNF5in3"
   },
   "outputs": [
    {
     "name": "stdout",
     "output_type": "stream",
     "text": [
      "a\n"
     ]
    }
   ],
   "source": [
    "# test your function here\n",
    "input_s = \"asdnf\"\n",
    "index_psn = 0\n",
    "print(index_string(s=input_s, psn=index_psn))"
   ]
  },
  {
   "cell_type": "code",
   "execution_count": 16,
   "metadata": {
    "id": "iLprP9sKFOpa"
   },
   "outputs": [
    {
     "name": "stdout",
     "output_type": "stream",
     "text": [
      "Correct, great job!\n"
     ]
    }
   ],
   "source": [
    "# Run this cell to get feedback on your answer\n",
    "def test_index_string(answer):\n",
    "    max_score = 1\n",
    "    student_score = 1\n",
    "\n",
    "    cases = [\n",
    "    (\"asken\", 3, \"e\"),\n",
    "    (\"asken\", 1, \"s\"),\n",
    "    (\"hello\", 2, \"l\"),\n",
    "    (\"hello\", 4, \"o\"),\n",
    "    (\"unify\", 0, \"u\"),\n",
    "    (\"unify\", 3, \"f\")\n",
    "    ]\n",
    "\n",
    "    for case in cases:\n",
    "        input_s = case[0]\n",
    "        psn = case[1]\n",
    "        ref = case[2]\n",
    "        if answer(input_s, psn) != ref:\n",
    "            student_score = 0\n",
    "\n",
    "    if student_score == 1:\n",
    "        print(\"Correct, great job!\")\n",
    "    else:\n",
    "        print(\"Something's not quite right: try checking all the test cases here and make sure your function works for all of them\")\n",
    "\n",
    "test_index_string(index_string)"
   ]
  },
  {
   "cell_type": "markdown",
   "metadata": {
    "id": "ml6TsbTfJogr"
   },
   "source": [
    "## Q2: Convert a string to all lower or all uppercase, depending on the input parameter\n",
    "Write a function called `change_case()` that takes these inputs:\n",
    "1. `string` (`str`) - an input string to transform\n",
    "2. `direction` (`str`) - a string that tells you which direction to change the case (`'lower'` or `'upper'`). \n",
    "\n",
    "MAKE SURE THAT you write and test these functions with these parameters *exactly* as written here, to ensure that the autograder correctly grades your answer.\n",
    "\n",
    "*Hint*: You'll need an if/else conditional for this.\n"
   ]
  },
  {
   "cell_type": "code",
   "execution_count": null,
   "metadata": {},
   "outputs": [],
   "source": [
    "# formulate and write code for your problem components here"
   ]
  },
  {
   "cell_type": "code",
   "execution_count": 24,
   "metadata": {
    "id": "TA9lHAOo1uSn"
   },
   "outputs": [],
   "source": [
    "def change_case(string, direction): # fill out / check the parameters\n",
    "    if direction == \"lower\":\n",
    "        string = string.lower()\n",
    "    elif direction == \"upper\":\n",
    "        string = string.upper()\n",
    "    return string"
   ]
  },
  {
   "cell_type": "code",
   "execution_count": 25,
   "metadata": {
    "id": "NDNAF0Gc5t3J"
   },
   "outputs": [
    {
     "name": "stdout",
     "output_type": "stream",
     "text": [
      "HELLO\n"
     ]
    }
   ],
   "source": [
    "# test your function here\n",
    "s = \"Hello\"\n",
    "dir = \"upper\"\n",
    "print(change_case(string=s, direction=dir))"
   ]
  },
  {
   "cell_type": "code",
   "execution_count": 26,
   "metadata": {
    "id": "ySEGPaBAKtpv"
   },
   "outputs": [
    {
     "name": "stdout",
     "output_type": "stream",
     "text": [
      "Correct, great job!\n"
     ]
    }
   ],
   "source": [
    "# Run this cell to get feedback on your answer\n",
    "def test_change_case(answer):\n",
    "    max_score = 1\n",
    "    student_score = 1\n",
    "\n",
    "    cases = [\n",
    "      [\"hello\", \"upper\", \"HELLO\"],\n",
    "      [\"yEs\", \"lower\", \"yes\"],\n",
    "      [\"BRIDGE\", \"lower\", \"bridge\"],\n",
    "      [\"hoUSE\", \"upper\", \"HOUSE\"],\n",
    "      [\"BRIDGE\", \"upper\", \"BRIDGE\"],\n",
    "    ]\n",
    "\n",
    "    for case in cases:\n",
    "        ref = case[2]\n",
    "        s = case[0]\n",
    "        direction = case[1]\n",
    "    if answer(s, direction) != ref:\n",
    "        student_score = 0\n",
    "\n",
    "    if student_score == 1:\n",
    "        print(\"Correct, great job!\")\n",
    "    else:\n",
    "        print(\"Something's not quite right: try checking all the test cases here and make sure your function works for all of them\")\n",
    "\n",
    "test_change_case(change_case)"
   ]
  },
  {
   "cell_type": "markdown",
   "metadata": {
    "id": "kok_XTaVv5zI"
   },
   "source": [
    "## Q3: Get username from email\n",
    "Write a function `get_email_username()` that takes as input:\n",
    "1. `email` (`str`) - a valid email address (e.g., `'joelchan@umd.edu`)\n",
    "\n",
    "And returns the username of the email address, which is the string on the left-hand side of the `@` symbol.\n",
    "\n",
    "For example, if I call `get_email_username(\"joelchan@umd.edu\")`, I should get back `'joelchan'`, and if I call `get_email_username(\"helloworld@gmail.com\")`, I should get back `'helloworld'`).\n",
    "\n",
    "This is the split pattern we discussed in class."
   ]
  },
  {
   "cell_type": "code",
   "execution_count": null,
   "metadata": {},
   "outputs": [],
   "source": [
    "# formulate and write code for your problem components here"
   ]
  },
  {
   "cell_type": "code",
   "execution_count": 27,
   "metadata": {
    "id": "4ykWPu7Dv9bf"
   },
   "outputs": [],
   "source": [
    "def get_email_username(email): # fill out / check the parameters\n",
    "    return email.split(\"@\")[0]"
   ]
  },
  {
   "cell_type": "code",
   "execution_count": 28,
   "metadata": {
    "id": "g84592MTEzRL"
   },
   "outputs": [
    {
     "name": "stdout",
     "output_type": "stream",
     "text": [
      "joelchan\n"
     ]
    }
   ],
   "source": [
    "# test your function here\n",
    "my_email = \"joelchan@umd.edu\"\n",
    "print(get_email_username(email=my_email))"
   ]
  },
  {
   "cell_type": "code",
   "execution_count": 29,
   "metadata": {
    "id": "L3_TCfLRwBWH"
   },
   "outputs": [
    {
     "name": "stdout",
     "output_type": "stream",
     "text": [
      "Correct, great job!\n"
     ]
    }
   ],
   "source": [
    "# Run this cell to get feedback on your answer\n",
    "def test_get_email_username(answer):\n",
    "    max_score = 1\n",
    "    student_score = 1\n",
    "\n",
    "    cases = [\n",
    "    [\"joelchan@umd.edu\", \"joelchan\"],\n",
    "    [\"hce@joelchan.me\", \"hce\"],\n",
    "    [\"jc86@yahoo.com\", \"jc86\"],\n",
    "    [\"sp90@state.md.gov\", \"sp90\"],\n",
    "    ]\n",
    "\n",
    "    for case in cases:\n",
    "        ref = case[1]\n",
    "        email = case[0]\n",
    "        if answer(email) != ref:\n",
    "            student_score = 0\n",
    "            break\n",
    "\n",
    "    if student_score == 1:\n",
    "        print(\"Correct, great job!\")\n",
    "    else:\n",
    "        print(\"Something's not quite right: try checking all the test cases here and make sure your function works for all of them\")\n",
    "\n",
    "test_get_email_username(get_email_username)"
   ]
  },
  {
   "cell_type": "markdown",
   "metadata": {
    "id": "Wp4JvHAOFcC6"
   },
   "source": [
    "## Q4: Construct a message with string formatting for a waiter splitting the bill for a table\n",
    "\n",
    "Write a function `split_check()` that takes as input:\n",
    "1. `customer_name` (`str`) - the name of the customer\n",
    "2. `total_check` (`float`) - the amount that is owed for the whole table\n",
    "3. `fraction_owed` (`float`) - the fraction of the total check owed by the customer. Should be a float between 0 and 1 (e.g., `0.2` to denote that this person owes 20% of the check).\n",
    "\n",
    "And returns the message \"(customer_name) owes (amount_owed)\", with string formatting so that the amount_owed is only showing 2 decimal places. \n",
    "\n",
    "Your program should first compute the amount_owed, which should be the product of `total_check` and `fraction_owed`. \n",
    "Then it should construct a message that has appropriate string formatting variables for the customer_name and amount_owed values.\n",
    "Finally, it should return this message string.\n",
    "\n",
    "Note that sometimes the result will be more than 2 decimal places; even in those cases, your resulting message should only display 2 decimal points. For example, `split_check(\"Joel\", 32.50, 0.25)` should return the message \"Joel owes 8.12\" (even though `32.50 * 25` yields `8.125`)."
   ]
  },
  {
   "cell_type": "code",
   "execution_count": null,
   "metadata": {},
   "outputs": [],
   "source": [
    "# formulate and write code for your problem components here"
   ]
  },
  {
   "cell_type": "code",
   "execution_count": 30,
   "metadata": {
    "id": "JVyj6-TLJ-OQ"
   },
   "outputs": [],
   "source": [
    "def split_check(customer_name, total_check, fraction_owed): # fill out / check the parameters\n",
    "    amount_owed = round(total_check * fraction_owed, 2)\n",
    "    return f'{customer_name} owes {amount_owed}'"
   ]
  },
  {
   "cell_type": "code",
   "execution_count": 31,
   "metadata": {
    "id": "pxaxamLyKDHj"
   },
   "outputs": [
    {
     "name": "stdout",
     "output_type": "stream",
     "text": [
      "Joel owes 8.12\n"
     ]
    }
   ],
   "source": [
    "# test your function here\n",
    "name = \"Joel\"\n",
    "check = 32.50\n",
    "my_share = 0.25\n",
    "print(split_check(customer_name=name, total_check=check, fraction_owed=my_share))"
   ]
  },
  {
   "cell_type": "code",
   "execution_count": 32,
   "metadata": {
    "id": "dlWPseC5L1V4"
   },
   "outputs": [
    {
     "name": "stdout",
     "output_type": "stream",
     "text": [
      "Correct, great job!\n"
     ]
    }
   ],
   "source": [
    "# Run this cell to get feedback on your answer\n",
    "def test_split_check(answer):\n",
    "    max_score = 1\n",
    "    student_score = 1\n",
    "\n",
    "    cases = [\n",
    "    [\"joel\", 32.5, .25, \"joel owes 8.12\"],\n",
    "    [\"sarah\", 21.5, .13, \"sarah owes 2.79\"],\n",
    "    [\"rk\", 2.5, .79, \"rk owes 1.98\"],\n",
    "    [\"samar\", 7.22, .28, \"samar owes 2.02\"],\n",
    "    [\"joel\", 102.8, .35, \"joel owes 35.98\"],\n",
    "    ]\n",
    "\n",
    "    for case in cases:\n",
    "        customer_name = case[0]\n",
    "        total_check = case[1]\n",
    "        fraction_owed = case[2]\n",
    "        ref = case[3]\n",
    "        # print(ref)\n",
    "        ans = answer(customer_name, total_check, fraction_owed).lower()\n",
    "        if ans != ref:\n",
    "            student_score = 0\n",
    "            break\n",
    "\n",
    "    if student_score == 1:\n",
    "        print(\"Correct, great job!\")\n",
    "    else:\n",
    "        print(\"Something's not quite right: try checking all the test cases here and make sure your function works for all of them\")\n",
    "\n",
    "test_split_check(split_check)"
   ]
  },
  {
   "cell_type": "code",
   "execution_count": null,
   "metadata": {},
   "outputs": [],
   "source": []
  }
 ],
 "metadata": {
  "colab": {
   "collapsed_sections": [],
   "name": "INST126_SP22_PCE_M2_Strings_Student_Template.ipynb",
   "provenance": []
  },
  "kernelspec": {
   "display_name": "Python 3 (ipykernel)",
   "language": "python",
   "name": "python3"
  },
  "language_info": {
   "codemirror_mode": {
    "name": "ipython",
    "version": 3
   },
   "file_extension": ".py",
   "mimetype": "text/x-python",
   "name": "python",
   "nbconvert_exporter": "python",
   "pygments_lexer": "ipython3",
   "version": "3.9.7"
  },
  "toc": {
   "base_numbering": 1,
   "nav_menu": {},
   "number_sections": false,
   "sideBar": true,
   "skip_h1_title": false,
   "title_cell": "Table of Contents",
   "title_sidebar": "Contents",
   "toc_cell": false,
   "toc_position": {},
   "toc_section_display": true,
   "toc_window_display": false
  }
 },
 "nbformat": 4,
 "nbformat_minor": 1
}
