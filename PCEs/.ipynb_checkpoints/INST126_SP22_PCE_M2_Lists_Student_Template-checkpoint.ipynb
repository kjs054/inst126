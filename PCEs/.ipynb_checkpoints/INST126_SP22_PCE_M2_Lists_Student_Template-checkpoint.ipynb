{
 "cells": [
  {
   "cell_type": "markdown",
   "metadata": {
    "id": "y3G0wdCFC5up"
   },
   "source": [
    "# Programming Component Exercise Module 2: Lists"
   ]
  },
  {
   "cell_type": "markdown",
   "metadata": {
    "id": "4-Pwu6LeEUd5"
   },
   "source": [
    "\n",
    "## Q1: Create a list\n",
    "Write a function called `create_list` that takes three strings, puts them in a list in the order that they're received, and returns the list.\n",
    "\n",
    "Inputs:\n",
    "- `string1` (`str`) - any string\n",
    "- `string2` (`str`) - any string\n",
    "- `string3` (`str`) - any string\n",
    "\n",
    "Returns:\n",
    "- result (`list`) - a list that contains the three input strings, in order."
   ]
  },
  {
   "cell_type": "code",
   "execution_count": null,
   "metadata": {},
   "outputs": [],
   "source": [
    "# formulate and write code for problem components here"
   ]
  },
  {
   "cell_type": "code",
   "execution_count": 46,
   "metadata": {
    "id": "FfhDpCj11O07"
   },
   "outputs": [],
   "source": [
    "def create_list(string1, string2, string3):\n",
    "    result = [string1, string2, string3]\n",
    "    return result"
   ]
  },
  {
   "cell_type": "code",
   "execution_count": 47,
   "metadata": {
    "id": "JXbpsvNF5in3"
   },
   "outputs": [
    {
     "name": "stdout",
     "output_type": "stream",
     "text": [
      "['apples', 'oranges', 'bananas']\n"
     ]
    }
   ],
   "source": [
    "# test your function here\n",
    "# feel free to change any of these values\n",
    "s1 = \"apples\"\n",
    "s2 = \"oranges\"\n",
    "s3 = \"bananas\"\n",
    "print(create_list(string1=s1, string2=s2, string3=s3))"
   ]
  },
  {
   "cell_type": "code",
   "execution_count": 48,
   "metadata": {
    "id": "WDuT9sdIyiw7"
   },
   "outputs": [
    {
     "name": "stdout",
     "output_type": "stream",
     "text": [
      "['piano', 'cello', 'guitar']\n"
     ]
    }
   ],
   "source": [
    "# test your function again\n",
    "item1 = \"piano\"\n",
    "item2 = \"cello\"\n",
    "item3 = \"guitar\"\n",
    "print(create_list(string1=item1, string2=item2, string3=item3))"
   ]
  },
  {
   "cell_type": "code",
   "execution_count": 49,
   "metadata": {
    "id": "iLprP9sKFOpa"
   },
   "outputs": [
    {
     "name": "stdout",
     "output_type": "stream",
     "text": [
      "Correct, great job!\n"
     ]
    }
   ],
   "source": [
    "# Run this cell to get feedback on your answer\n",
    "def test_create_list(answer):\n",
    "    student_score = 1\n",
    "\n",
    "    cases = [\n",
    "           [\"apples\", \"oranges\", \"bananas\"],\n",
    "           [\"apples\", \"oranges\", \"kiwis\"],\n",
    "           [\"apples\", \"lemons\", \"durian\"]\n",
    "    ]\n",
    "    for case in cases:\n",
    "        ref = case\n",
    "        if answer(case[0], case[1], case[2]) != ref:\n",
    "            student_score = 0\n",
    "\n",
    "    if student_score == 1:\n",
    "        print(\"Correct, great job!\")\n",
    "    else:\n",
    "        print(\"Something's not quite right: try checking all the test cases here and make sure your function works for all of them\")\n",
    "\n",
    "test_create_list(create_list)"
   ]
  },
  {
   "cell_type": "markdown",
   "metadata": {
    "id": "ml6TsbTfJogr"
   },
   "source": [
    "## Q2: Find the length of a list\n",
    "Write a function called `list_len` that tells you how many items are in a given list.\n",
    "\n",
    "Inputs:\n",
    "- `input_list` (`list`) - the input list\n",
    "\n",
    "Returns:\n",
    "- `result` (int) - the length of the input list"
   ]
  },
  {
   "cell_type": "code",
   "execution_count": 50,
   "metadata": {},
   "outputs": [],
   "source": [
    "# formulate and write code for problem components here"
   ]
  },
  {
   "cell_type": "code",
   "execution_count": 52,
   "metadata": {
    "id": "TA9lHAOo1uSn"
   },
   "outputs": [],
   "source": [
    "def list_len(input_list):\n",
    "    result = len(input_list)\n",
    "    return result"
   ]
  },
  {
   "cell_type": "code",
   "execution_count": 53,
   "metadata": {
    "id": "NDNAF0Gc5t3J"
   },
   "outputs": [
    {
     "name": "stdout",
     "output_type": "stream",
     "text": [
      "7\n"
     ]
    }
   ],
   "source": [
    "# test your function here\n",
    "# feel free to change any of these values\n",
    "day_list = [\"Monday\", \"Tuesday\", \"Wednesday\", \"Thursday\", \"Friday\", \"Saturday\", \"Sunday\"]\n",
    "print(list_len(input_list=day_list))"
   ]
  },
  {
   "cell_type": "code",
   "execution_count": 54,
   "metadata": {
    "id": "6g3ybwZxzJ_h"
   },
   "outputs": [
    {
     "name": "stdout",
     "output_type": "stream",
     "text": [
      "7\n"
     ]
    }
   ],
   "source": [
    "# test your function again\n",
    "pasta_list = [\"Spaghetti\", \"Rigatoni\", \"Ravioli\", \"Farfalle\", \"Linguini\"]\n",
    "print(list_len(input_list=day_list))"
   ]
  },
  {
   "cell_type": "code",
   "execution_count": 28,
   "metadata": {
    "id": "ySEGPaBAKtpv"
   },
   "outputs": [
    {
     "name": "stdout",
     "output_type": "stream",
     "text": [
      "Correct, great job!\n"
     ]
    }
   ],
   "source": [
    "# Run this cell to get feedback on your answer\n",
    "def test_list_len(answer):\n",
    "    max_score = 1\n",
    "    student_score = 1\n",
    "\n",
    "    cases = [\n",
    "      ([\"Monday\", \"Tuesday\", \"Wednesday\", \"Thursday\", \"Friday\", \"Saturday\", \"Sunday\"], 7),\n",
    "      ([\"Monday\", \"Tuesday\", \"Wednesday\", \"Thursday\", \"Friday\"], 5),\n",
    "      ([\"Friday\", \"Saturday\", \"Sunday\"], 3)\n",
    "    ]\n",
    "\n",
    "    for case in cases:\n",
    "        ref = case[1]\n",
    "        if answer(case[0]) != ref:\n",
    "            student_score = 0\n",
    "\n",
    "    if student_score == 1:\n",
    "        print(\"Correct, great job!\")\n",
    "    else:\n",
    "        print(\"Something's not quite right: try checking all the test cases here and make sure your function works for all of them\")\n",
    "\n",
    "test_list_len(list_len)"
   ]
  },
  {
   "cell_type": "markdown",
   "metadata": {
    "id": "kok_XTaVv5zI"
   },
   "source": [
    "## Q3: Retrieve the fourth item from list\n",
    "Write a function `get_fourth_item` that returns the fourth item in a list.\n",
    "\n",
    "Inputs:\n",
    "- `items` (`list`) - a list of items, any type\n",
    "\n",
    "Returns:\n",
    "- object (any type) that is the fourth item in the list\n",
    "\n",
    "*hint: index positions (which you use to grab items from a list) and numerical positions (e.g., the fourth item) are not the same!*"
   ]
  },
  {
   "cell_type": "code",
   "execution_count": null,
   "metadata": {},
   "outputs": [],
   "source": [
    "# formulate and write code for problem components here"
   ]
  },
  {
   "cell_type": "code",
   "execution_count": 33,
   "metadata": {
    "id": "4ykWPu7Dv9bf"
   },
   "outputs": [],
   "source": [
    "def get_fourth_item(items):\n",
    "    return items[3] #list index starts at 0"
   ]
  },
  {
   "cell_type": "code",
   "execution_count": 34,
   "metadata": {
    "id": "wsWHbSpr5_X8"
   },
   "outputs": [
    {
     "name": "stdout",
     "output_type": "stream",
     "text": [
      "INST326\n"
     ]
    }
   ],
   "source": [
    "# test your function here\n",
    "# feel free to change any of these values\n",
    "classes = [\"INST126\", \"INST201\", \"INST311\", \"INST326\", \"INST335\"]\n",
    "print(get_fourth_item(items=classes))"
   ]
  },
  {
   "cell_type": "code",
   "execution_count": 35,
   "metadata": {
    "id": "jO4guI1_zu_5"
   },
   "outputs": [
    {
     "name": "stdout",
     "output_type": "stream",
     "text": [
      "Computer Engineering\n"
     ]
    }
   ],
   "source": [
    "# test your function again\n",
    "majors = [\"Information Science\", \"Social Data Science\", \"Computer Science\", \"Computer Engineering\", \"Immersive Media Design\"]\n",
    "print(get_fourth_item(items=majors))"
   ]
  },
  {
   "cell_type": "code",
   "execution_count": 36,
   "metadata": {
    "id": "L3_TCfLRwBWH"
   },
   "outputs": [
    {
     "name": "stdout",
     "output_type": "stream",
     "text": [
      "Correct, great job!\n"
     ]
    }
   ],
   "source": [
    "# Run this cell to get feedback on your answer\n",
    "def test_get_item(answer):\n",
    "    max_score = 1\n",
    "    student_score = 1\n",
    "\n",
    "    cases = [\n",
    "      ([\"INST126\", \"INST201\", \"INST311\", \"INST326\", \"INST335\"], \"INST326\"),\n",
    "      ([\"INST326\", \"INST201\", \"INST311\", \"INST126\", \"INST335\"], \"INST126\"),\n",
    "      ([\"INST126\", \"INST326\", \"INST311\", \"INST201\", \"INST335\"], \"INST201\"),\n",
    "      ([\"INST126\", \"INST201\", \"INST326\", \"INST311\", \"INST335\"], \"INST311\"),\n",
    "      ([\"INST126\", \"INST201\", \"INST311\", \"INST335\", \"INST326\"], \"INST335\")\n",
    "    ]\n",
    "\n",
    "    for case in cases:\n",
    "        ref = case[1]\n",
    "        if answer(case[0]) != ref:\n",
    "            student_score = 0\n",
    "\n",
    "    if student_score == 1:\n",
    "        print(\"Correct, great job!\")\n",
    "    else:\n",
    "        print(\"Something's not quite right: try checking all the test cases here and make sure your function works for all of them\")\n",
    "\n",
    "test_get_item(get_fourth_item)"
   ]
  },
  {
   "cell_type": "markdown",
   "metadata": {
    "id": "0r6h7u6Lt748"
   },
   "source": [
    "## Q4: Find biggest number\n",
    "Write a function `find_biggest` that returns the biggest item from a list of numbers. For example, given the list `[77, 68, 100, 95]` as an argument, your function should return the value `68`.\n",
    "\n",
    "Input:\n",
    "- `nums` (`list`) - list of numbers (each an `int`)\n",
    "\n",
    "Returns:\n",
    "- `result` (`int`) - the biggest number in the list\n",
    "\n",
    "To do this, you'll need to:\n",
    "1. Sort the list\n",
    "2. Grab the last item in the sorted list\n",
    "\n",
    "*Hint: be careful! there are built in functions / methods to sort a list, but one of them changes the list itself, and the other returns a new list that is sorted while leaving the original list unchanged. Make sure you know which is which and write your code accordingly!"
   ]
  },
  {
   "cell_type": "code",
   "execution_count": null,
   "metadata": {},
   "outputs": [],
   "source": [
    "# formulate and write code for problem components here"
   ]
  },
  {
   "cell_type": "code",
   "execution_count": 55,
   "metadata": {
    "id": "ay02-hP-uM0p"
   },
   "outputs": [],
   "source": [
    "def find_biggest(nums):\n",
    "    result = max(nums)\n",
    "    return result"
   ]
  },
  {
   "cell_type": "code",
   "execution_count": 56,
   "metadata": {
    "id": "Rcmx8iv0uUbw"
   },
   "outputs": [
    {
     "name": "stdout",
     "output_type": "stream",
     "text": [
      "100\n"
     ]
    }
   ],
   "source": [
    "# test your function here\n",
    "# feel free to change any of these values\n",
    "scores = [77, 68, 100, 95, 86, 82, 99]\n",
    "print(find_biggest(nums=scores))"
   ]
  },
  {
   "cell_type": "code",
   "execution_count": 57,
   "metadata": {
    "id": "Tbn63IEx0M-1"
   },
   "outputs": [
    {
     "name": "stdout",
     "output_type": "stream",
     "text": [
      "98\n"
     ]
    }
   ],
   "source": [
    "# test your function again\n",
    "grades = [54, 78, 49, 21, 98, 75, 83]\n",
    "print(find_biggest(nums=grades))"
   ]
  },
  {
   "cell_type": "code",
   "execution_count": 58,
   "metadata": {
    "id": "rB85VQM9uhld"
   },
   "outputs": [
    {
     "name": "stdout",
     "output_type": "stream",
     "text": [
      "Correct, great job!\n"
     ]
    }
   ],
   "source": [
    "# Run this cell to get feedback on your answer\n",
    "def test_find_biggest(answer):\n",
    "    max_score = 1\n",
    "    student_score = 1\n",
    "\n",
    "    cases = [\n",
    "      ([77, 68, 100, 95, 86, 82, 99], 100),\n",
    "      ([32, 76, 97, 54, 86], 97),\n",
    "      ([43, 88, 67, 77, 54, 91, 22], 91)\n",
    "    ]\n",
    "\n",
    "    for case in cases:\n",
    "        ref = case[1]\n",
    "        if answer(case[0]) != ref:\n",
    "            student_score = 0\n",
    "\n",
    "    if student_score == 1:\n",
    "        print(\"Correct, great job!\")\n",
    "    else:\n",
    "        print(\"Something's not quite right: try checking all the test cases here and make sure your function works for all of them\")\n",
    "\n",
    "test_find_biggest(find_biggest)"
   ]
  },
  {
   "cell_type": "code",
   "execution_count": null,
   "metadata": {},
   "outputs": [],
   "source": []
  },
  {
   "cell_type": "code",
   "execution_count": null,
   "metadata": {},
   "outputs": [],
   "source": []
  }
 ],
 "metadata": {
  "colab": {
   "collapsed_sections": [],
   "name": "INS126_SP22_PCE_M2_Lists_Student_Template.ipynb",
   "provenance": [],
   "toc_visible": true
  },
  "kernelspec": {
   "display_name": "Python 3 (ipykernel)",
   "language": "python",
   "name": "python3"
  },
  "language_info": {
   "codemirror_mode": {
    "name": "ipython",
    "version": 3
   },
   "file_extension": ".py",
   "mimetype": "text/x-python",
   "name": "python",
   "nbconvert_exporter": "python",
   "pygments_lexer": "ipython3",
   "version": "3.9.7"
  },
  "toc": {
   "base_numbering": 1,
   "nav_menu": {},
   "number_sections": false,
   "sideBar": true,
   "skip_h1_title": false,
   "title_cell": "Table of Contents",
   "title_sidebar": "Contents",
   "toc_cell": false,
   "toc_position": {},
   "toc_section_display": true,
   "toc_window_display": false
  }
 },
 "nbformat": 4,
 "nbformat_minor": 1
}
