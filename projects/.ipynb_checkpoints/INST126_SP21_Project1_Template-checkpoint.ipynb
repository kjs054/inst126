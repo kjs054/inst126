{
 "cells": [
  {
   "cell_type": "markdown",
   "metadata": {
    "id": "Q4DUKQu30UpM"
   },
   "source": [
    "# Project 1: Expressions, Variables, Functions, and Conditionals\n",
    "\n",
    "Metacognition questions (complete after you are finished before submitting):\n",
    "\n",
    "**While/after completing this project, what (if any) concepts/skills did you realize you feel you need/want to understand better?**<br/>\n",
    "\n",
    "**What is your rough ballpark estimate of how much you relied on \"trial and error\"^ to complete this project? Answers might range from \"basically none\" to \"almost all of the code was written through trial and error\"**<br/>\n",
    "basically none\n",
    "\n",
    "^ \"trial and error\" roughly amounts to blindly changing things until they work, with no predictions about whether your changes are likely to be successful\n",
    "\n"
   ]
  },
  {
   "cell_type": "code",
   "execution_count": null,
   "metadata": {
    "id": "-Gv4kdKDLnm0"
   },
   "outputs": [],
   "source": []
  },
  {
   "cell_type": "markdown",
   "metadata": {
    "id": "spLE98dUsRcY"
   },
   "source": [
    "Choose ***one*** of the following problems to solve. You may attempt more if you want, but if you do, please indicate in your submission comment on ELMS which one you want to count for your grade."
   ]
  },
  {
   "cell_type": "markdown",
   "metadata": {
    "id": "2IV8ktaD0kDr"
   },
   "source": [
    "### Problem 1: Wedding usher\n",
    "\n",
    "Write a function called `wedding_usher` that tells you where to sit (*front*, *left*, or *right*) depending on these parameters: \n",
    "- `relationship`: whether you're **friend** or **family**\n",
    "- `close_to` whether you're closest to the **bride**, **groom**, or **both**\n",
    "\n",
    "Here is the mapping of cases to decisions that you want to follow:\n",
    "- **family** --> *front* (no matter if close to bride, groom, or both)\n",
    "- **friend** of **bride** --> *left*\n",
    "- **friend** of **groom** --> *right*\n",
    "- **friend** of bride *and* groom --> *front*"
   ]
  },
  {
   "cell_type": "code",
   "execution_count": 30,
   "metadata": {
    "id": "D3Uz4y-a0Lrc"
   },
   "outputs": [],
   "source": [
    "import sys\n",
    "\n",
    "# Write your function here\n",
    "def wedding_usher(relationship, close_to):\n",
    "    if (sys.version_info[0] >= 3) and (sys.version_info[1] >= 10):\n",
    "        #Check if the version major is 3 or above and that the minor is 10 or above\n",
    "        #Match-case will not work with anything below\n",
    "        match relationship:\n",
    "            case \"family\": return \"front\"\n",
    "            case \"friend\":\n",
    "                match close_to:\n",
    "                    case \"bride\": return \"left\"\n",
    "                    case \"groom\": return \"right\"\n",
    "                    case \"both\": return \"front\"\n",
    "    else:\n",
    "        raise Exception(\"You are not running python3.10\")\n",
    "            "
   ]
  },
  {
   "cell_type": "code",
   "execution_count": 31,
   "metadata": {},
   "outputs": [],
   "source": [
    "def check_input(prompt, options):\n",
    "    #By encapsulating our input check in a loop we can minimize redundancy\n",
    "    while True:\n",
    "        #Wrap the input and int conversion into a try block to catch parsing errors\n",
    "        try:\n",
    "            value = int(input(prompt))\n",
    "        except ValueError:\n",
    "            print(\"Input must be a number!\")\n",
    "            #If the input fails the check go back to the beginning of the loop\n",
    "            continue\n",
    "        #Now we need to check if4 the number inputted is a valid option\n",
    "        if value not in options:\n",
    "            print(f'{value} is not an allowed entry')\n",
    "            continue\n",
    "        else:\n",
    "            #If the input succeeds exit the infinite loop\n",
    "            break\n",
    "    return value\n"
   ]
  },
  {
   "cell_type": "code",
   "execution_count": 32,
   "metadata": {
    "id": "Tnd1mXJk0vZB"
   },
   "outputs": [
    {
     "name": "stdout",
     "output_type": "stream",
     "text": [
      "What is the relationship? {1: 'family', 2: 'friend'}: 1\n",
      "Who are they close to? {1: 'bride', 2: 'groom', 3: 'both'}: 2\n",
      "front\n"
     ]
    }
   ],
   "source": [
    "# Test your function here (and/or add more code blocks if you need to)\n",
    "# You should probably play around with these variables to test your function's behavior\n",
    "\n",
    "#Using dictionaries we can define our possible inputs and access them using keys\n",
    "relationship_options = {1: \"family\", 2: \"friend\"}\n",
    "close_to_options = {1: \"bride\", 2: \"groom\", 3: \"both\"}\n",
    "\n",
    "#Now we will store the user input which will be executed by a function that checks the inputs validity\n",
    "#We can use f-strings to show our options in the prompt\n",
    "relationship_input = check_input(\n",
    "    f'What is the relationship? {relationship_options}: ', relationship_options)\n",
    "close_to_input = check_input(\n",
    "    f'Who are they close to? {close_to_options}: ', close_to_options)\n",
    "\n",
    "#Once our input variables are defined we can execute the wedding_usher function\n",
    "seat_location = wedding_usher(\n",
    "    relationship_options[relationship_input], close_to_options[close_to_input])\n",
    "print(seat_location)\n"
   ]
  },
  {
   "cell_type": "markdown",
   "metadata": {
    "id": "uthF4fmV0uvt"
   },
   "source": [
    "### Problem 2: COVID diagnostic\n",
    "Write a function that makes a tentative diagnosis of COVID based on a set of symptoms. \n",
    "\n",
    "The symptoms (parameters) are:\n",
    "- `temperature` (int) - what is your temperature?\n",
    "- `cough` (Boolean) - do you have a cough?\n",
    "- `runny_nose` (Boolean) - do you have a runny nose?\n",
    "\n",
    "The conditions and outcomes are:\n",
    "- runny nose is an antipattern, so any time runny_nose is true, the function should diagnose as `probably_no` (i.e., not COVID)\n",
    "- if temperature is above 100 (fever) or there is a cough (but not both), the function should diagnose as `possibly_yes`\n",
    "- if temperature is above 100 (fever) and there is a cough, the function should diagnose as `probably_yes`\n",
    "\n",
    "*NOTE: it should go without saying, but these conditions are made up for this exercise: the reality is far more complex!*"
   ]
  },
  {
   "cell_type": "code",
   "execution_count": 26,
   "metadata": {
    "id": "Stj6Fd_4ghH0"
   },
   "outputs": [],
   "source": [
    "# Write your function here\n",
    "def diagnose(temperature, cough, runny_nose):\n",
    "    if runny_nose:\n",
    "        return \"probably_no\"\n",
    "    elif cough and (temperature > 100):\n",
    "        return \"probably_yes\"\n",
    "    elif cough or (temperature > 100):\n",
    "        return \"possibly_yes\""
   ]
  },
  {
   "cell_type": "code",
   "execution_count": 27,
   "metadata": {
    "id": "Chfjh5L1ghca"
   },
   "outputs": [
    {
     "name": "stdout",
     "output_type": "stream",
     "text": [
      "probably_no\n"
     ]
    }
   ],
   "source": [
    "# Test your function here (and/or add more code blocks if you need to)\n",
    "# You should probably play around with these variables to test your function's behavior\n",
    "temperature = 120\n",
    "cough = True\n",
    "runny_nose = True\n",
    "diagnosis = diagnose(temperature, cough, runny_nose)\n",
    "print(diagnosis)"
   ]
  },
  {
   "cell_type": "markdown",
   "metadata": {
    "id": "coKS_h97g41S"
   },
   "source": [
    "### Problem 3: Football touchdown caller\n",
    "\n",
    "Write a function that calls a touchdown based on rules of football. \n",
    "\n",
    "Per [this easy guide](https://www.thesun.co.uk/sport/5192047/nfl-rules-beginners-guide-touchdown-first-down-quarterback-endzone-super-bowl/#:~:text=A%20player%20can%20run%20the,in%20control%20from%20the%20receiver.), you can score a touchdown by running the ball in or catching a pass in the endzone. If you're running, the ball has only has to \"break the plane\" (i.e., cross the endzone line). But if you're catching, there are more requirements: both feet have to touch the ground AND the ball must be \"in control\" of the receiver; if either of these conditions is not met, then it's not a touchdown.\n",
    "\n",
    "In other words, your function needs to take in these parameters:\n",
    "- `break_plane` (Boolean) - did the ball \"break the plane\" (i.e., enter the end zone)?\n",
    "- `manner` (str) - how did the ball enter the end zone? \"run\" or \"catch\"?\n",
    "- `both_feet` (Boolean) - were both feet on the ground at the time of the call?\n",
    "- `in_control` (Boolean) - did the player \"have control\" of the ball at the time of the call?\n",
    "\n",
    "And return either `True` (touchdown!) or `False` (not touchdown), following the logic laid out above."
   ]
  },
  {
   "cell_type": "code",
   "execution_count": 28,
   "metadata": {
    "id": "-sbzllUWhAdz"
   },
   "outputs": [],
   "source": [
    "# Write your function here\n",
    "def touchdown_call(manner, break_plane, both_feet, in_control):\n",
    "    \n",
    "     #First we should check if manner is a valid entry\n",
    "    if manner not in [\"run\", \"catch\"]:\n",
    "        raise Exception(f'{manner} is not an allowed entry')\n",
    "        \n",
    "    if manner == \"run\":\n",
    "        #We can use a ternary operator for better readability\n",
    "        return True if break_plane else False\n",
    "    elif manner == \"catch\":\n",
    "        return True if both_feet and in_control else False"
   ]
  },
  {
   "cell_type": "code",
   "execution_count": 29,
   "metadata": {
    "id": "3-V85Vl6hBEb"
   },
   "outputs": [
    {
     "name": "stdout",
     "output_type": "stream",
     "text": [
      "False\n"
     ]
    }
   ],
   "source": [
    "# Test your function here (and/or add more code blocks if you need to)\n",
    "# You should probably play around with these variables to test your function's behavior\n",
    "break_plane = True\n",
    "manner = \"catch\"\n",
    "both_feet = False\n",
    "in_control = True\n",
    "call = touchdown_call(manner, break_plane, both_feet, in_control)\n",
    "print(call)"
   ]
  },
  {
   "cell_type": "markdown",
   "metadata": {
    "id": "6ojrM4YphcEC"
   },
   "source": [
    "### Problem 4: Hero attack effect calculator\n",
    "\n",
    "Write a function that calculates whether a hero's attack on an opponent was effective or not, depending on the following parameters:\n",
    "- `attack` (str) - \"normal\" or \"special\" attack\n",
    "- `magic` (Boolean) - does the attack use magic?\n",
    "- `enemy_hero` (Boolean) - is the enemy a \"hero\"?\n",
    "\n",
    "The conditions and outcomes are:\n",
    "- If your enemy is not a hero, and you use magic and a special attack, the attack is `super_effective`\n",
    "- If your enemy is not a hero, and you don't use magic or only use a normal attack, the attack is `effective`\n",
    "- If your enemy is a hero, and you use special magic, the attack is `effective`\n",
    "- If your enemy is a hero, and you don't use magic, the attack is `ineffective`\n"
   ]
  },
  {
   "cell_type": "code",
   "execution_count": 30,
   "metadata": {
    "id": "WeVsjueHhhhl"
   },
   "outputs": [],
   "source": [
    "# Write your function here\n",
    "def hero_attack(attack, magic, enemy_hero):\n",
    "    if enemy_hero:\n",
    "        return \"effective\" if magic else \"ineffective\"\n",
    "    else:\n",
    "        return \"super_effective\" if magic and attack == \"special\" else \"effective\"\n"
   ]
  },
  {
   "cell_type": "code",
   "execution_count": 31,
   "metadata": {
    "id": "GtixNSCZhk3l"
   },
   "outputs": [
    {
     "name": "stdout",
     "output_type": "stream",
     "text": [
      "effective\n"
     ]
    }
   ],
   "source": [
    "# Test your function here (and/or add more code blocks if you need to)\n",
    "# You should probably play around with these variables to test your function's behavior\n",
    "attack = \"normal\"\n",
    "magic = True\n",
    "enemy_hero = False\n",
    "result = hero_attack(attack, magic, enemy_hero)\n",
    "print(result)"
   ]
  },
  {
   "cell_type": "markdown",
   "metadata": {
    "id": "gQ7JwWWaaHeH"
   },
   "source": [
    "## Problem 5: Coffee recommender\n",
    "\n",
    "A function that recommends one of four coffees, depending on the following parameters:\n",
    "- `dark_roast` (Boolean) - do you like dark roast?\n",
    "- `cream` (Boolean) - do you like cream with your coffee?\n",
    "- `special_flavors` (Boolean) - do you like special flavors (like hazelnut) with your coffee?\n",
    "\n",
    "Your function should make the following recommendations:\n",
    "- Like dark roast, but don't like cream and don't like special flavors --> americano\n",
    "- Like dark roast, and must have cream and special flavors --> house_special\n",
    "- Like dark roast, and cream, but not special flavors --> latte\n",
    "- Anything else --> house_drip\n",
    "\n",
    "*Note: Apologies if these recommendations make no sense! Feel free to change them here as long as the logical structure remains the same.*"
   ]
  },
  {
   "cell_type": "code",
   "execution_count": 32,
   "metadata": {
    "id": "GwbMD2tXbHTi"
   },
   "outputs": [],
   "source": [
    "# Write your function here\n",
    "def recommend_coffee(dark_roast, cream, special_flavors):\n",
    "    if dark_roast:\n",
    "        if cream:\n",
    "            return \"house_special\" if special_flavors else \"latte\"\n",
    "        else:\n",
    "            return \"house_drip\" if special_flavors else \"americano\"\n",
    "    else:\n",
    "        return \"house_drip\""
   ]
  },
  {
   "cell_type": "code",
   "execution_count": 33,
   "metadata": {
    "id": "XJMYwf0zbLKe"
   },
   "outputs": [
    {
     "name": "stdout",
     "output_type": "stream",
     "text": [
      "americano\n"
     ]
    }
   ],
   "source": [
    "# Test your function here (and/or add more code blocks if you need to)\n",
    "# You should probably play around with these variables to test your function's behavior\n",
    "dark_roast = True\n",
    "cream = False\n",
    "special_flavors = False\n",
    "coffee = recommend_coffee(dark_roast, cream, special_flavors)\n",
    "print(coffee)"
   ]
  },
  {
   "cell_type": "code",
   "execution_count": null,
   "metadata": {},
   "outputs": [],
   "source": []
  }
 ],
 "metadata": {
  "colab": {
   "collapsed_sections": [],
   "name": "INST126_SP21_Project1_Template.ipynb",
   "provenance": []
  },
  "kernelspec": {
   "display_name": "nameofthevenv",
   "language": "python",
   "name": "nameofthevenv"
  },
  "language_info": {
   "codemirror_mode": {
    "name": "ipython",
    "version": 3
   },
   "file_extension": ".py",
   "mimetype": "text/x-python",
   "name": "python",
   "nbconvert_exporter": "python",
   "pygments_lexer": "ipython3",
   "version": "3.10.0"
  },
  "toc": {
   "base_numbering": 1,
   "nav_menu": {},
   "number_sections": true,
   "sideBar": true,
   "skip_h1_title": false,
   "title_cell": "Table of Contents",
   "title_sidebar": "Contents",
   "toc_cell": false,
   "toc_position": {},
   "toc_section_display": true,
   "toc_window_display": false
  }
 },
 "nbformat": 4,
 "nbformat_minor": 1
}
