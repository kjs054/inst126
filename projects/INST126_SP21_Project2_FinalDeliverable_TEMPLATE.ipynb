{
 "cells": [
  {
   "cell_type": "markdown",
   "metadata": {
    "id": "Q4DUKQu30UpM"
   },
   "source": [
    "# Project 2: Lists, Iteration, and Strings\n"
   ]
  },
  {
   "cell_type": "markdown",
   "metadata": {
    "id": "spLE98dUsRcY"
   },
   "source": [
    "Choose ***one*** of the following problems to solve. You may attempt more if you want, but if you do, please indicate in your submission comment on ELMS which one you want to count for your grade."
   ]
  },
  {
   "cell_type": "markdown",
   "metadata": {
    "id": "2IV8ktaD0kDr"
   },
   "source": [
    "## Problem 1: Word trimmer \n",
    "Write a program that takes in a list of words of varying length and prints out a \"cleaned\" list of words that fit the character limit of M: if the length is > character limit, truncate it to fit the character limit of M, and add a \"...\" at the end. Otherwise, the word remains unchanged. Your program should also print out the number of words that had to be truncated because they were too long."
   ]
  },
  {
   "cell_type": "code",
   "execution_count": 15,
   "metadata": {
    "id": "iIqstG6NxXAZ"
   },
   "outputs": [],
   "source": [
    "# formulate and write/test code for problem components here"
   ]
  },
  {
   "cell_type": "code",
   "execution_count": 35,
   "metadata": {
    "id": "D3Uz4y-a0Lrc"
   },
   "outputs": [
    {
     "name": "stdout",
     "output_type": "stream",
     "text": [
      "129\n"
     ]
    },
    {
     "data": {
      "text/plain": [
       "['We',\n",
       " 'hold',\n",
       " 'thes...',\n",
       " 'trut...',\n",
       " 'to',\n",
       " 'be',\n",
       " 'self...',\n",
       " 'that',\n",
       " 'all',\n",
       " 'men',\n",
       " 'are',\n",
       " 'crea...',\n",
       " 'equa...',\n",
       " 'that',\n",
       " 'they',\n",
       " 'are',\n",
       " 'endo...',\n",
       " 'by',\n",
       " 'thei...',\n",
       " 'Crea...',\n",
       " 'with',\n",
       " 'cert...',\n",
       " 'unal...',\n",
       " 'Righ...',\n",
       " 'that',\n",
       " 'amon...',\n",
       " 'thes...',\n",
       " 'are',\n",
       " 'Life...',\n",
       " 'Libe...',\n",
       " 'and',\n",
       " 'the',\n",
       " 'purs...',\n",
       " 'of',\n",
       " 'Happ...',\n",
       " 'to',\n",
       " 'secu...',\n",
       " 'thes...',\n",
       " 'righ...',\n",
       " 'Gove...',\n",
       " 'are',\n",
       " 'inst...',\n",
       " 'amon...',\n",
       " 'Men,',\n",
       " 'deri...',\n",
       " 'thei...',\n",
       " 'just',\n",
       " 'powe...',\n",
       " 'from',\n",
       " 'the',\n",
       " 'cons...',\n",
       " 'of',\n",
       " 'the',\n",
       " 'gove...',\n",
       " '--Th...',\n",
       " 'when...',\n",
       " 'any',\n",
       " 'Form',\n",
       " 'of',\n",
       " 'Gove...',\n",
       " 'beco...',\n",
       " 'dest...',\n",
       " 'of',\n",
       " 'thes...',\n",
       " 'ends...',\n",
       " 'it',\n",
       " 'is',\n",
       " 'the',\n",
       " 'Righ...',\n",
       " 'of',\n",
       " 'the',\n",
       " 'Peop...',\n",
       " 'to',\n",
       " 'alte...',\n",
       " 'or',\n",
       " 'to',\n",
       " 'abol...',\n",
       " 'it,',\n",
       " 'and',\n",
       " 'to',\n",
       " 'inst...',\n",
       " 'new',\n",
       " 'Gove...',\n",
       " 'layi...',\n",
       " 'its',\n",
       " 'foun...',\n",
       " 'on',\n",
       " 'such',\n",
       " 'prin...',\n",
       " 'and',\n",
       " 'orga...',\n",
       " 'its',\n",
       " 'powe...',\n",
       " 'in',\n",
       " 'such',\n",
       " 'form...',\n",
       " 'as',\n",
       " 'to',\n",
       " 'them',\n",
       " 'shal...',\n",
       " 'seem',\n",
       " 'most',\n",
       " 'like...',\n",
       " 'to',\n",
       " 'effe...',\n",
       " 'thei...',\n",
       " 'Safe...',\n",
       " 'and',\n",
       " 'Happ...',\n",
       " 'Prud...',\n",
       " 'inde...',\n",
       " 'will',\n",
       " 'dict...',\n",
       " 'that',\n",
       " 'Gove...',\n",
       " 'long',\n",
       " 'esta...',\n",
       " 'shou...',\n",
       " 'not',\n",
       " 'be',\n",
       " 'chan...',\n",
       " 'for',\n",
       " 'ligh...',\n",
       " 'and',\n",
       " 'tran...',\n",
       " 'caus...',\n",
       " 'and',\n",
       " 'acco...',\n",
       " 'all',\n",
       " 'expe...',\n",
       " 'hath',\n",
       " 'shew...',\n",
       " 'that',\n",
       " 'mank...',\n",
       " 'are',\n",
       " 'more',\n",
       " 'disp...',\n",
       " 'to',\n",
       " 'suff...',\n",
       " 'whil...',\n",
       " 'evil...',\n",
       " 'are',\n",
       " 'suff...',\n",
       " 'than',\n",
       " 'to',\n",
       " 'righ...',\n",
       " 'them...',\n",
       " 'by',\n",
       " 'abol...',\n",
       " 'the',\n",
       " 'form...',\n",
       " 'to',\n",
       " 'whic...',\n",
       " 'they',\n",
       " 'are',\n",
       " 'accu...',\n",
       " 'But',\n",
       " 'when',\n",
       " 'a',\n",
       " 'long',\n",
       " 'trai...',\n",
       " 'of',\n",
       " 'abus...',\n",
       " 'and',\n",
       " 'usur...',\n",
       " 'purs...',\n",
       " 'inva...',\n",
       " 'the',\n",
       " 'same',\n",
       " 'Obje...',\n",
       " 'evin...',\n",
       " 'a',\n",
       " 'desi...',\n",
       " 'to',\n",
       " 'redu...',\n",
       " 'them',\n",
       " 'unde...',\n",
       " 'abso...',\n",
       " 'Desp...',\n",
       " 'it',\n",
       " 'is',\n",
       " 'thei...',\n",
       " 'righ...',\n",
       " 'it',\n",
       " 'is',\n",
       " 'thei...',\n",
       " 'duty...',\n",
       " 'to',\n",
       " 'thro...',\n",
       " 'off',\n",
       " 'such',\n",
       " 'Gove...',\n",
       " 'and',\n",
       " 'to',\n",
       " 'prov...',\n",
       " 'new',\n",
       " 'Guar...',\n",
       " 'for',\n",
       " 'thei...',\n",
       " 'futu...',\n",
       " 'secu...',\n",
       " 'has',\n",
       " 'been',\n",
       " 'the',\n",
       " 'pati...',\n",
       " 'suff...',\n",
       " 'of',\n",
       " 'thes...',\n",
       " 'Colo...',\n",
       " 'and',\n",
       " 'such',\n",
       " 'is',\n",
       " 'now',\n",
       " 'the',\n",
       " 'nece...',\n",
       " 'whic...',\n",
       " 'cons...',\n",
       " 'them',\n",
       " 'to',\n",
       " 'alte...',\n",
       " 'thei...',\n",
       " 'form...',\n",
       " 'Syst...',\n",
       " 'of',\n",
       " 'Gove...',\n",
       " 'The',\n",
       " 'hist...',\n",
       " 'of',\n",
       " 'the',\n",
       " 'pres...',\n",
       " 'King',\n",
       " 'of',\n",
       " 'Grea...',\n",
       " 'Brit...',\n",
       " 'is',\n",
       " 'a',\n",
       " 'hist...',\n",
       " 'of',\n",
       " 'repe...',\n",
       " 'inju...',\n",
       " 'and',\n",
       " 'usur...',\n",
       " 'all',\n",
       " 'havi...',\n",
       " 'in',\n",
       " 'dire...',\n",
       " 'obje...',\n",
       " 'the',\n",
       " 'esta...',\n",
       " 'of',\n",
       " 'an',\n",
       " 'abso...',\n",
       " 'Tyra...',\n",
       " 'over',\n",
       " 'thes...',\n",
       " 'Stat...']"
      ]
     },
     "execution_count": 35,
     "metadata": {},
     "output_type": "execute_result"
    }
   ],
   "source": [
    "# example input:\n",
    "# feel free to play around with this to test your program!\n",
    "words = ['We', 'hold', 'these', 'truths', 'to', 'be', 'self-evident,', 'that', 'all', 'men', 'are', 'created', 'equal,', 'that', 'they', 'are', 'endowed', 'by', 'their', 'Creator', 'with', 'certain', 'unalienable', 'Rights,', 'that', 'among', 'these', 'are', 'Life,', 'Liberty', 'and', 'the', 'pursuit', 'of', 'Happiness.--That', 'to', 'secure', 'these', 'rights,', 'Governments', 'are', 'instituted', 'among', 'Men,', 'deriving', 'their', 'just', 'powers', 'from', 'the', 'consent', 'of', 'the', 'governed,', '--That', 'whenever', 'any', 'Form', 'of', 'Government', 'becomes', 'destructive', 'of', 'these', 'ends,', 'it', 'is', 'the', 'Right', 'of', 'the', 'People', 'to', 'alter', 'or', 'to', 'abolish', 'it,', 'and', 'to', 'institute', 'new', 'Government,', 'laying', 'its', 'foundation', 'on', 'such', 'principles', 'and', 'organizing', 'its', 'powers', 'in', 'such', 'form,', 'as', 'to', 'them', 'shall', 'seem', 'most', 'likely', 'to', 'effect', 'their', 'Safety', 'and', 'Happiness.', 'Prudence,', 'indeed,', 'will', 'dictate', 'that', 'Governments', 'long', 'established', 'should', 'not', 'be', 'changed', 'for', 'light', 'and', 'transient', 'causes;', 'and', 'accordingly', 'all', 'experience', 'hath', 'shewn,', 'that', 'mankind', 'are', 'more', 'disposed', 'to', 'suffer,', 'while', 'evils', 'are', 'sufferable,', 'than', 'to', 'right', 'themselves', 'by', 'abolishing', 'the', 'forms', 'to', 'which', 'they', 'are', 'accustomed.', 'But', 'when', 'a', 'long', 'train', 'of', 'abuses', 'and', 'usurpations,', 'pursuing', 'invariably', 'the', 'same', 'Object', 'evinces', 'a', 'design', 'to', 'reduce', 'them', 'under', 'absolute', 'Despotism,', 'it', 'is', 'their', 'right,', 'it', 'is', 'their', 'duty,', 'to', 'throw', 'off', 'such', 'Government,', 'and', 'to', 'provide', 'new', 'Guards', 'for', 'their', 'future', 'security.--Such', 'has', 'been', 'the', 'patient', 'sufferance', 'of', 'these', 'Colonies;', 'and', 'such', 'is', 'now', 'the', 'necessity', 'which', 'constrains', 'them', 'to', 'alter', 'their', 'former', 'Systems', 'of', 'Government.', 'The', 'history', 'of', 'the', 'present', 'King', 'of', 'Great', 'Britain', 'is', 'a', 'history', 'of', 'repeated', 'injuries', 'and', 'usurpations,', 'all', 'having', 'in', 'direct', 'object', 'the', 'establishment', 'of', 'an', 'absolute', 'Tyranny', 'over', 'these', 'States.']\n",
    "\n",
    "# example output if M is 5 (character limit of 5)\n",
    "# ['We', 'hold', 'these', 'truth...', 'to', 'be', 'self-...', 'that', 'all', 'men', 'are', 'creat...', 'equal...', 'that', 'they', 'are', 'endow...', 'by', 'their', 'Creat...', 'with', 'certa...', 'unali...', 'Right...', 'that', 'among', 'these', 'are', 'Life,', 'Liber...', 'and', 'the', 'pursu...', 'of', 'Happi...', 'to', 'secur...', 'these', 'right...', 'Gover...', 'are', 'insti...', 'among', 'Men,', 'deriv...', 'their', 'just', 'power...', 'from', 'the', 'conse...', 'of', 'the', 'gover...', '--Tha...', 'whene...', 'any', 'Form', 'of', 'Gover...', 'becom...', 'destr...', 'of', 'these', 'ends,', 'it', 'is', 'the', 'Right', 'of', 'the', 'Peopl...', 'to', 'alter', 'or', 'to', 'aboli...', 'it,', 'and', 'to', 'insti...', 'new', 'Gover...', 'layin...', 'its', 'found...', 'on', 'such', 'princ...', 'and', 'organ...', 'its', 'power...', 'in', 'such', 'form,', 'as', 'to', 'them', 'shall', 'seem', 'most', 'likel...', 'to', 'effec...', 'their', 'Safet...', 'and', 'Happi...', 'Prude...', 'indee...', 'will', 'dicta...', 'that', 'Gover...', 'long', 'estab...', 'shoul...', 'not', 'be', 'chang...', 'for', 'light', 'and', 'trans...', 'cause...', 'and', 'accor...', 'all', 'exper...', 'hath', 'shewn...', 'that', 'manki...', 'are', 'more', 'dispo...', 'to', 'suffe...', 'while', 'evils', 'are', 'suffe...', 'than', 'to', 'right', 'thems...', 'by', 'aboli...', 'the', 'forms', 'to', 'which', 'they', 'are', 'accus...', 'But', 'when', 'a', 'long', 'train', 'of', 'abuse...', 'and', 'usurp...', 'pursu...', 'invar...', 'the', 'same', 'Objec...', 'evinc...', 'a', 'desig...', 'to', 'reduc...', 'them', 'under', 'absol...', 'Despo...', 'it', 'is', 'their', 'right...', 'it', 'is', 'their', 'duty,', 'to', 'throw', 'off', 'such', 'Gover...', 'and', 'to', 'provi...', 'new', 'Guard...', 'for', 'their', 'futur...', 'secur...', 'has', 'been', 'the', 'patie...', 'suffe...', 'of', 'these', 'Colon...', 'and', 'such', 'is', 'now', 'the', 'neces...', 'which', 'const...', 'them', 'to', 'alter', 'their', 'forme...', 'Syste...', 'of', 'Gover...', 'The', 'histo...', 'of', 'the', 'prese...', 'King', 'of', 'Great', 'Brita...', 'is', 'a', 'histo...', 'of', 'repea...', 'injur...', 'and', 'usurp...', 'all', 'havin...', 'in', 'direc...', 'objec...', 'the', 'estab...', 'of', 'an', 'absol...', 'Tyran...', 'over', 'these', 'State...']\n",
    "# Truncated 95 words that were over the character limit\n",
    "\n",
    "word_trimmer(words, 4)"
   ]
  },
  {
   "cell_type": "code",
   "execution_count": 34,
   "metadata": {
    "id": "eRdqM4XvhTG5"
   },
   "outputs": [],
   "source": [
    "# write your code here, add as many cells as is helpful!\n",
    "\n",
    "def word_trimmer(words, m):\n",
    "    \n",
    "    #Assign a counter to increment\n",
    "    count = 0\n",
    "    \n",
    "    #by utilzing the enumerate function we can access the current index of the loop\n",
    "    #this allows us to replace the value at the current index in the same list instead of creating antoher\n",
    "    for index, word in enumerate(words):\n",
    "        if len(word) > m:\n",
    "            \n",
    "            #get substring of word consiting of character 0 to m. Then concat with ...\n",
    "            #ptyhon automatically subtracts 1 from m here\n",
    "            cleaned_word = f'{word[0:m]}...'\n",
    "            words[index] = cleaned_word\n",
    "            count +=1\n",
    "\n",
    "    #print our count\n",
    "    print(count)\n",
    "    return words"
   ]
  },
  {
   "cell_type": "markdown",
   "metadata": {
    "id": "uthF4fmV0uvt"
   },
   "source": [
    "### Problem 2: Sensitive word redacter\n",
    "Write a program that takes a list of words and a list of sensitive words, and prints out a new list of words that replaces each sensitive word with the word \"REDACTED\", as well as the number of times the sensitive words showed up."
   ]
  },
  {
   "cell_type": "code",
   "execution_count": null,
   "metadata": {
    "id": "e4uUIoBfxWgV"
   },
   "outputs": [],
   "source": [
    "# formulate and write/test code for problem components here"
   ]
  },
  {
   "cell_type": "code",
   "execution_count": null,
   "metadata": {
    "id": "Stj6Fd_4ghH0"
   },
   "outputs": [],
   "source": [
    "# example input\n",
    "# feel free to play around with this to test your program!\n",
    "words = ['she', 'sells', 'sea-shells', 'on', 'the', 'sea-shore', 'the', 'shells', 'she', 'sells', 'are', 'sea-shells', \"i'm\", 'sure', 'for', 'if', 'she', 'sells', 'sea-shells', 'on', 'the', 'sea-shore', 'then', \"i'm\", 'sure', 'she', 'sells', 'sea-shore', 'shells']\n",
    "\n",
    "# example output if the sensitive words are she and sea-shells\n",
    "# ['REDACTED', 'sells', 'REDACTED', 'on', 'the', 'sea-shore', 'the', 'shells', 'REDACTED', 'sells', 'are', 'REDACTED', \"i'm\", 'sure', 'for', 'if', 'REDACTED', 'sells', 'REDACTED', 'on', 'the', 'sea-shore', 'then', \"i'm\", 'sure', 'REDACTED', 'sells', 'sea-shore', 'shells']\n",
    "# Redacted 7 instances of sensitive words"
   ]
  },
  {
   "cell_type": "code",
   "execution_count": null,
   "metadata": {
    "id": "QEATc2xuhJ5X"
   },
   "outputs": [],
   "source": [
    "# write your code here, add as many cells as is helpful!"
   ]
  },
  {
   "cell_type": "markdown",
   "metadata": {
    "id": "coKS_h97g41S"
   },
   "source": [
    "### Problem 3: Email blocked user filter\n",
    "\n",
    "Write a program that takes a list of emails, and a list of blocked usernames (username only, NOT whole email), and prints out a \"cleaned\" list of emails that are not from the blocked usernames, as well as the number of times any email from a blocked user showed up."
   ]
  },
  {
   "cell_type": "code",
   "execution_count": null,
   "metadata": {
    "id": "Bt-kYZRFxN7O"
   },
   "outputs": [],
   "source": [
    "# formulate and write/test code for problem components here"
   ]
  },
  {
   "cell_type": "code",
   "execution_count": null,
   "metadata": {
    "id": "-sbzllUWhAdz"
   },
   "outputs": [],
   "source": [
    "# example input\n",
    "# do play around with this to test your program!\n",
    "emails = [\n",
    "  \"joelchan@umd.edu\",\n",
    "  \"firebrand@gmail.com\",\n",
    "  \"funlove@yahoo.com\",\n",
    "  \"miro@outlook.com\",\n",
    "  \"sp@umd.edu\",\n",
    "  \"kjfrog@gmail.com\"          \n",
    "]\n",
    "\n",
    "blocked = ['firebrand', 'funlove']\n",
    "\n",
    "# example output if the blocked usernames are firebrand and funlove\n",
    "# ['joelchan@umd.edu', 'miro@outlook.com', 'sp@umd.edu', 'kjfrog@gmail.com']\n",
    "# Screened out 2 emails from blocked users"
   ]
  },
  {
   "cell_type": "code",
   "execution_count": null,
   "metadata": {
    "id": "3-V85Vl6hBEb"
   },
   "outputs": [],
   "source": [
    "# write your code here, add as many cells as is helpful!"
   ]
  },
  {
   "cell_type": "markdown",
   "metadata": {
    "id": "6ojrM4YphcEC"
   },
   "source": [
    "### Problem 4: Rock paper scissors\n",
    "\n",
    "Write a program that takes two lists of rock paper scissors entries, of any length (as long as they are the same length), and computes how many wins each player gets in total, then returns a message that prints out \"Player X wins, with N wins to Y wins for Player Z\" if one player wins. If it comes to a draw, print  out \"Draw! Each player has N wins apiece\".\n"
   ]
  },
  {
   "cell_type": "code",
   "execution_count": null,
   "metadata": {
    "id": "ky8zTf2kxYVR"
   },
   "outputs": [],
   "source": [
    "# formulate and write/test code for problem components here"
   ]
  },
  {
   "cell_type": "code",
   "execution_count": null,
   "metadata": {
    "id": "WeVsjueHhhhl"
   },
   "outputs": [],
   "source": [
    "# example inputs\n",
    "# do play around with this to test your program!\n",
    "player_1 = [\"R\", \"S\", \"P\", \"S\", \"S\", \"R\", \"P\"]\n",
    "player_2 = [\"S\", \"S\", \"R\", \"R\", \"P\", \"S\", \"P\"]\n",
    "\n",
    "# example correct output\n",
    "# Player 1 wins, with 4 wins to 0 wins for Player 2"
   ]
  },
  {
   "cell_type": "code",
   "execution_count": null,
   "metadata": {
    "id": "psiFESpMnoF0"
   },
   "outputs": [],
   "source": [
    "# write your code here, add as many cells as is helpful!"
   ]
  },
  {
   "cell_type": "markdown",
   "metadata": {
    "id": "gQ7JwWWaaHeH"
   },
   "source": [
    "### Problem 5: Data cleaner\n",
    "\n",
    "Write a program that takes a list of \"sales records\" in that are dirty: need to screen out extreme values, which are anything less than \\\\$0 or more than \\\\$10,000, and then prints out the highest and lowest sales values for the list. Also note that the \"valid\" sales records are strings (e.g., \"$100,000\") that should be represented as numbers."
   ]
  },
  {
   "cell_type": "code",
   "execution_count": null,
   "metadata": {
    "id": "EPTvVMOLxZDC"
   },
   "outputs": [],
   "source": [
    "# formulate and write/test code for problem components here"
   ]
  },
  {
   "cell_type": "code",
   "execution_count": null,
   "metadata": {
    "id": "GwbMD2tXbHTi"
   },
   "outputs": [],
   "source": [
    "# example input\n",
    "# do play around with this to test your program!\n",
    "sales = [\n",
    "   \"$1,000,000\",\n",
    "   \"$-90\",\n",
    "   \"$50\",\n",
    "   \"$153\",\n",
    "   \"$22\",\n",
    "   \"$265\",\n",
    "   \"$500,000\"\n",
    "]\n",
    "\n",
    "# example correct output\n",
    "# Highest sale = 265\n",
    "# Lowest sale = 22"
   ]
  },
  {
   "cell_type": "code",
   "execution_count": null,
   "metadata": {
    "id": "LjhgK6Qpnfsc"
   },
   "outputs": [],
   "source": [
    "# write your code here, add as many cells as is helpful!"
   ]
  }
 ],
 "metadata": {
  "colab": {
   "collapsed_sections": [],
   "name": "INST126_SP21_Project2_FinalDeliverable_TEMPLATE.ipynb",
   "provenance": []
  },
  "kernelspec": {
   "display_name": "Python 3 (ipykernel)",
   "language": "python",
   "name": "python3"
  },
  "language_info": {
   "codemirror_mode": {
    "name": "ipython",
    "version": 3
   },
   "file_extension": ".py",
   "mimetype": "text/x-python",
   "name": "python",
   "nbconvert_exporter": "python",
   "pygments_lexer": "ipython3",
   "version": "3.9.7"
  },
  "toc": {
   "base_numbering": 1,
   "nav_menu": {},
   "number_sections": false,
   "sideBar": true,
   "skip_h1_title": false,
   "title_cell": "Table of Contents",
   "title_sidebar": "Contents",
   "toc_cell": false,
   "toc_position": {},
   "toc_section_display": true,
   "toc_window_display": false
  }
 },
 "nbformat": 4,
 "nbformat_minor": 1
}
